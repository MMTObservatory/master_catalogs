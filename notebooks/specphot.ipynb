{
 "cells": [
  {
   "cell_type": "code",
   "execution_count": 58,
   "metadata": {},
   "outputs": [],
   "source": [
    "import numpy as np\n",
    "\n",
    "import astropy.units as u\n",
    "from astropy.coordinates import Angle, SkyCoord\n",
    "\n",
    "from astroquery.simbad import Simbad\n",
    "from astroquery.gaia import Gaia\n",
    "\n",
    "from astropy.table import Table, Column\n",
    "from astropy.io import ascii\n",
    "\n",
    "Simbad.add_votable_fields('pm', 'typed_id', 'sptype')"
   ]
  },
  {
   "cell_type": "code",
   "execution_count": 2,
   "metadata": {},
   "outputs": [],
   "source": [
    "sphot = ascii.read(\"../catalogs/specphot.cat\", format='no_header', comment='[%#]', names=['ID', 'RA', 'Dec', 'PM_RA', 'PM_Dec', 'Mag', 'Epoch'])"
   ]
  },
  {
   "cell_type": "code",
   "execution_count": 3,
   "metadata": {},
   "outputs": [
    {
     "data": {
      "text/plain": [
       "81"
      ]
     },
     "execution_count": 3,
     "metadata": {},
     "output_type": "execute_result"
    }
   ],
   "source": [
    "ids = sphot['ID']\n",
    "len(ids)"
   ]
  },
  {
   "cell_type": "code",
   "execution_count": 4,
   "metadata": {},
   "outputs": [
    {
     "name": "stderr",
     "output_type": "stream",
     "text": [
      "WARNING: AstropyDeprecationWarning: \"pedantic\" was deprecated in version 5.0 and will be removed in a future version. Use argument \"verify\" instead. [astropy.io.votable.table]\n"
     ]
    }
   ],
   "source": [
    "sim_table = Simbad.query_objects(sphot['ID'])"
   ]
  },
  {
   "cell_type": "code",
   "execution_count": 5,
   "metadata": {},
   "outputs": [],
   "source": [
    "sim_table['Coords'] = SkyCoord(ra=sim_table['RA'], dec=sim_table['DEC'], unit=(u.hour, u.deg), frame='icrs')"
   ]
  },
  {
   "cell_type": "code",
   "execution_count": 6,
   "metadata": {},
   "outputs": [
    {
     "data": {
      "text/html": [
       "<div><i>Table length=81</i>\n",
       "<table id=\"table140348280801984\" class=\"table-striped table-bordered table-condensed\">\n",
       "<thead><tr><th>MAIN_ID</th><th>RA</th><th>DEC</th><th>RA_PREC</th><th>DEC_PREC</th><th>COO_ERR_MAJA</th><th>COO_ERR_MINA</th><th>COO_ERR_ANGLE</th><th>COO_QUAL</th><th>COO_WAVELENGTH</th><th>COO_BIBCODE</th><th>PMRA</th><th>PMDEC</th><th>PM_ERR_MAJA</th><th>PM_ERR_MINA</th><th>PM_ERR_ANGLE</th><th>TYPED_ID</th><th>SP_TYPE</th><th>SP_QUAL</th><th>SP_BIBCODE</th><th>SCRIPT_NUMBER_ID</th><th>Coords</th></tr></thead>\n",
       "<thead><tr><th></th><th>&quot;h:m:s&quot;</th><th>&quot;d:m:s&quot;</th><th></th><th></th><th>mas</th><th>mas</th><th>deg</th><th></th><th></th><th></th><th>mas / yr</th><th>mas / yr</th><th>mas / yr</th><th>mas / yr</th><th>deg</th><th></th><th></th><th></th><th></th><th></th><th>deg,deg</th></tr></thead>\n",
       "<thead><tr><th>object</th><th>str13</th><th>str13</th><th>int16</th><th>int16</th><th>float32</th><th>float32</th><th>int16</th><th>str1</th><th>str1</th><th>object</th><th>float64</th><th>float64</th><th>float32</th><th>float32</th><th>int16</th><th>object</th><th>object</th><th>str1</th><th>object</th><th>int32</th><th>SkyCoord</th></tr></thead>\n",
       "<tr><td>EGGR 382</td><td>00 33 54.4629</td><td>-12 07 58.777</td><td>14</td><td>14</td><td>0.039</td><td>0.030</td><td>90</td><td>A</td><td>O</td><td>2018yCat.1345....0G</td><td>157.603</td><td>-191.430</td><td>0.101</td><td>0.090</td><td>90</td><td>G158-100</td><td>DC?</td><td>E</td><td>1975ApJ...202..191W</td><td>1</td><td>8.476928749999999,-12.132993611111111</td></tr>\n",
       "<tr><td>Hilt  102</td><td>01 09 05.0413</td><td>+62 47 30.265</td><td>14</td><td>14</td><td>0.021</td><td>0.023</td><td>90</td><td>A</td><td>O</td><td>2018yCat.1345....0G</td><td>-1.356</td><td>-0.101</td><td>0.043</td><td>0.042</td><td>90</td><td>Hiltner102</td><td>B0III</td><td>D</td><td></td><td>2</td><td>17.271005416666664,62.79174027777778</td></tr>\n",
       "<tr><td>LAWD 10</td><td>01 37 59.3936</td><td>-04 59 44.668</td><td>14</td><td>14</td><td>0.015</td><td>0.011</td><td>90</td><td>A</td><td>O</td><td>2020yCat.1350....0G</td><td>580.928</td><td>-350.274</td><td>0.021</td><td>0.013</td><td>90</td><td>L870-2</td><td>DA+D1</td><td>D</td><td>1988ApJ...334..947S</td><td>3</td><td>24.497473333333332,-4.995741111111111</td></tr>\n",
       "<tr><td>BD+12   237</td><td>01 49 09.4876</td><td>+13 33 11.794</td><td>14</td><td>14</td><td>0.064</td><td>0.053</td><td>90</td><td>A</td><td>O</td><td>2018yCat.1345....0G</td><td>6.702</td><td>-2.850</td><td>0.126</td><td>0.111</td><td>90</td><td>Feige15</td><td>sdA0IVHe1</td><td>B</td><td>2013A&amp;A...551A..31D</td><td>4</td><td>27.289531666666665,13.553276111111112</td></tr>\n",
       "<tr><td>PG 0205+134</td><td>02 08 03.4975</td><td>+13 36 24.916</td><td>10</td><td>10</td><td>43.000</td><td>32.000</td><td>90</td><td>B</td><td>O</td><td>2012yCat.1322....0Z</td><td>42.800</td><td>-1.600</td><td>4.400</td><td>3.700</td><td>90</td><td>PG0205+134</td><td>DA1+dM</td><td>C</td><td>2009A&amp;A...505..441K</td><td>5</td><td>32.014572916666665,13.606921111111111</td></tr>\n",
       "<tr><td>PG 0216+032</td><td>02 19 18.9089</td><td>+03 26 51.366</td><td>14</td><td>14</td><td>0.071</td><td>0.061</td><td>90</td><td>A</td><td>O</td><td>2018yCat.1345....0G</td><td>-3.527</td><td>-31.225</td><td>0.142</td><td>0.118</td><td>90</td><td>PG0216+032</td><td>sdOC</td><td>D</td><td>1986ApJS...61..305G</td><td>6</td><td>34.828787083333324,3.447601666666667</td></tr>\n",
       "<tr><td>V* FS Cet</td><td>02 35 07.5939</td><td>+03 43 56.817</td><td>14</td><td>14</td><td>0.044</td><td>0.043</td><td>90</td><td>A</td><td>O</td><td>2018yCat.1345....0G</td><td>82.539</td><td>7.260</td><td>0.096</td><td>0.096</td><td>90</td><td>Feige24</td><td>DA1+dM</td><td>C</td><td>2009A&amp;A...505..441K</td><td>7</td><td>38.78164125,3.7324491666666666</td></tr>\n",
       "<tr><td>Feige  25</td><td>02 38 37.7860</td><td>+05 28 11.305</td><td>14</td><td>14</td><td>0.060</td><td>0.050</td><td>90</td><td>A</td><td>O</td><td>2018yCat.1345....0G</td><td>4.818</td><td>0.102</td><td>0.116</td><td>0.107</td><td>90</td><td>Feige25</td><td>B7</td><td>D</td><td></td><td>8</td><td>39.657441666666664,5.469806944444445</td></tr>\n",
       "<tr><td>HD  19445</td><td>03 08 25.5883</td><td>+26 19 51.400</td><td>14</td><td>14</td><td>0.036</td><td>0.028</td><td>90</td><td>A</td><td>O</td><td>2020yCat.1350....0G</td><td>-209.742</td><td>-829.648</td><td>0.045</td><td>0.037</td><td>90</td><td>HD19445</td><td>G2VFe-3</td><td>C</td><td>2003AJ....126.2048G</td><td>9</td><td>47.106617916666664,26.330944444444444</td></tr>\n",
       "<tr><td>...</td><td>...</td><td>...</td><td>...</td><td>...</td><td>...</td><td>...</td><td>...</td><td>...</td><td>...</td><td>...</td><td>...</td><td>...</td><td>...</td><td>...</td><td>...</td><td>...</td><td>...</td><td>...</td><td>...</td><td>...</td><td>...</td></tr>\n",
       "<tr><td>LAWD 89</td><td>21 47 37.2888</td><td>-07 44 12.376</td><td>10</td><td>10</td><td>100.000</td><td>100.000</td><td>90</td><td>B</td><td>O</td><td>2012yCat.1322....0Z</td><td>249.500</td><td>-131.800</td><td>8.000</td><td>8.000</td><td>90</td><td>L930-80</td><td>DB0</td><td>C</td><td>1952ApJ...116..283L</td><td>72</td><td>326.90537,-7.7367711111111115</td></tr>\n",
       "<tr><td>BD+28  4211</td><td>21 51 11.0220</td><td>+28 51 50.366</td><td>14</td><td>14</td><td>0.068</td><td>0.104</td><td>90</td><td>A</td><td>O</td><td>2018yCat.1345....0G</td><td>-34.728</td><td>-56.851</td><td>0.183</td><td>0.187</td><td>90</td><td>BD+284211</td><td>sdO2VIIIHe5</td><td>B</td><td>2013A&amp;A...551A..31D</td><td>73</td><td>327.795925,28.863990555555556</td></tr>\n",
       "<tr><td>BD+25  4655</td><td>21 59 41.9751</td><td>+26 25 57.398</td><td>14</td><td>14</td><td>0.045</td><td>0.059</td><td>90</td><td>A</td><td>O</td><td>2018yCat.1345....0G</td><td>-37.457</td><td>-41.672</td><td>0.134</td><td>0.121</td><td>90</td><td>BD+254655</td><td>sdO6</td><td>C</td><td>1966VA......8...63G</td><td>74</td><td>329.92489624999996,26.432610555555556</td></tr>\n",
       "<tr><td>BD+17  4708</td><td>22 11 31.3756</td><td>+18 05 34.177</td><td>14</td><td>14</td><td>0.148</td><td>0.138</td><td>90</td><td>A</td><td>O</td><td>2020yCat.1350....0G</td><td>505.945</td><td>59.270</td><td>0.210</td><td>0.177</td><td>90</td><td>BD+174708</td><td>sdF8</td><td>D</td><td>2000A&amp;A...353..978M</td><td>75</td><td>332.88073166666663,18.092826944444443</td></tr>\n",
       "<tr><td>LP  877-23</td><td>22 52 41.0353</td><td>-20 35 32.994</td><td>14</td><td>14</td><td>0.013</td><td>0.011</td><td>90</td><td>A</td><td>O</td><td>2020yCat.1350....0G</td><td>78.810</td><td>-314.311</td><td>0.014</td><td>0.012</td><td>90</td><td>LTT9239</td><td></td><td></td><td></td><td>76</td><td>343.1709804166666,-20.59249833333333</td></tr>\n",
       "<tr><td>HD 217086</td><td>22 56 47.1887</td><td>+62 43 37.654</td><td>14</td><td>14</td><td>0.026</td><td>0.023</td><td>90</td><td>A</td><td>O</td><td>2018yCat.1345....0G</td><td>-0.318</td><td>-2.077</td><td>0.054</td><td>0.045</td><td>90</td><td>HD217086</td><td>O7Vnn((f))z</td><td>C</td><td>2014ApJS..211...10S</td><td>77</td><td>344.1966195833333,62.72712611111111</td></tr>\n",
       "<tr><td>G 157-34</td><td>23 14 25.1848</td><td>-06 32 47.884</td><td>14</td><td>14</td><td>0.032</td><td>0.031</td><td>90</td><td>A</td><td>O</td><td>2020yCat.1350....0G</td><td>-342.541</td><td>-169.794</td><td>0.039</td><td>0.036</td><td>90</td><td>G157-34</td><td>DC</td><td>D</td><td>1979PASP...91..492H</td><td>78</td><td>348.6049366666666,-6.546634444444444</td></tr>\n",
       "<tr><td>Feige 110</td><td>23 19 58.3995</td><td>-05 09 56.170</td><td>14</td><td>14</td><td>0.079</td><td>0.058</td><td>90</td><td>A</td><td>O</td><td>2018yCat.1345....0G</td><td>-10.680</td><td>0.310</td><td>4.630</td><td>3.270</td><td>0</td><td>Feige110</td><td>sdO8VIIIHe5</td><td>B</td><td>2013A&amp;A...551A..31D</td><td>79</td><td>349.9933312499999,-5.165602777777778</td></tr>\n",
       "<tr><td>GD 248</td><td>23 26 06.5870</td><td>+16 00 19.282</td><td>14</td><td>14</td><td>0.034</td><td>0.026</td><td>90</td><td>A</td><td>O</td><td>2018yCat.1345....0G</td><td>-41.516</td><td>-115.571</td><td>0.101</td><td>0.053</td><td>90</td><td>GD248</td><td>DA5</td><td>C</td><td>1997ApJS..112..527P</td><td>80</td><td>351.5274458333333,16.005356111111112</td></tr>\n",
       "<tr><td>LAWD 93</td><td>23 43 50.7211</td><td>+32 32 46.726</td><td>14</td><td>14</td><td>0.111</td><td>0.039</td><td>90</td><td>A</td><td>O</td><td>2018yCat.1345....0G</td><td>-215.819</td><td>-59.745</td><td>0.165</td><td>0.065</td><td>90</td><td>EGGR162</td><td>DA3.8</td><td>C</td><td>2011ApJ...743..138G</td><td>81</td><td>355.9613379166666,32.54631277777778</td></tr>\n",
       "</table></div>"
      ],
      "text/plain": [
       "<Table length=81>\n",
       "  MAIN_ID         RA      ...                 Coords               \n",
       "               \"h:m:s\"    ...                deg,deg               \n",
       "   object       str13     ...                SkyCoord              \n",
       "----------- ------------- ... -------------------------------------\n",
       "   EGGR 382 00 33 54.4629 ... 8.476928749999999,-12.132993611111111\n",
       "  Hilt  102 01 09 05.0413 ...  17.271005416666664,62.79174027777778\n",
       "    LAWD 10 01 37 59.3936 ... 24.497473333333332,-4.995741111111111\n",
       "BD+12   237 01 49 09.4876 ... 27.289531666666665,13.553276111111112\n",
       "PG 0205+134 02 08 03.4975 ... 32.014572916666665,13.606921111111111\n",
       "PG 0216+032 02 19 18.9089 ...  34.828787083333324,3.447601666666667\n",
       "  V* FS Cet 02 35 07.5939 ...        38.78164125,3.7324491666666666\n",
       "  Feige  25 02 38 37.7860 ...  39.657441666666664,5.469806944444445\n",
       "  HD  19445 03 08 25.5883 ... 47.106617916666664,26.330944444444444\n",
       "        ...           ... ...                                   ...\n",
       "    LAWD 89 21 47 37.2888 ...         326.90537,-7.7367711111111115\n",
       "BD+28  4211 21 51 11.0220 ...         327.795925,28.863990555555556\n",
       "BD+25  4655 21 59 41.9751 ... 329.92489624999996,26.432610555555556\n",
       "BD+17  4708 22 11 31.3756 ... 332.88073166666663,18.092826944444443\n",
       " LP  877-23 22 52 41.0353 ...  343.1709804166666,-20.59249833333333\n",
       "  HD 217086 22 56 47.1887 ...   344.1966195833333,62.72712611111111\n",
       "   G 157-34 23 14 25.1848 ...  348.6049366666666,-6.546634444444444\n",
       "  Feige 110 23 19 58.3995 ...  349.9933312499999,-5.165602777777778\n",
       "     GD 248 23 26 06.5870 ...  351.5274458333333,16.005356111111112\n",
       "    LAWD 93 23 43 50.7211 ...   355.9613379166666,32.54631277777778"
      ]
     },
     "execution_count": 6,
     "metadata": {},
     "output_type": "execute_result"
    }
   ],
   "source": [
    "sim_table"
   ]
  },
  {
   "cell_type": "code",
   "execution_count": 28,
   "metadata": {},
   "outputs": [],
   "source": [
    "sim_table['RA_MMT'] = sim_table['Coords'].ra.to_string(unit=u.hour, sep=':', precision=4)\n",
    "sim_table['DEC_MMT'] = sim_table['Coords'].dec.to_string(unit=u.deg, sep=':', precision=3)"
   ]
  },
  {
   "cell_type": "code",
   "execution_count": 29,
   "metadata": {},
   "outputs": [],
   "source": [
    "sim_table['PMDEC_MMT'] = sim_table['PMDEC'] / 10  # mas/yr -> as/century\n",
    "sim_table['PMRA_MMT'] = sim_table['PMRA'] / 10 / 15 / np.cos(sim_table['Coords'].dec)  # mas/yr -> sec of time per century\n",
    "sim_table['PMRA_MMT'].info.format = '.4f'\n",
    "sim_table['PMDEC_MMT'].info.format = '.4f'"
   ]
  },
  {
   "cell_type": "code",
   "execution_count": 30,
   "metadata": {},
   "outputs": [
    {
     "data": {
      "text/html": [
       "<div><i>Table length=81</i>\n",
       "<table id=\"table140348280801984\" class=\"table-striped table-bordered table-condensed\">\n",
       "<thead><tr><th>MAIN_ID</th><th>RA</th><th>DEC</th><th>RA_PREC</th><th>DEC_PREC</th><th>COO_ERR_MAJA</th><th>COO_ERR_MINA</th><th>COO_ERR_ANGLE</th><th>COO_QUAL</th><th>COO_WAVELENGTH</th><th>COO_BIBCODE</th><th>PMRA</th><th>PMDEC</th><th>PM_ERR_MAJA</th><th>PM_ERR_MINA</th><th>PM_ERR_ANGLE</th><th>TYPED_ID</th><th>SP_TYPE</th><th>SP_QUAL</th><th>SP_BIBCODE</th><th>SCRIPT_NUMBER_ID</th><th>Coords</th><th>RA_MMT</th><th>DEC_MMT</th><th>PMDEC_MMT</th><th>PMRA_MMT</th></tr></thead>\n",
       "<thead><tr><th></th><th>&quot;h:m:s&quot;</th><th>&quot;d:m:s&quot;</th><th></th><th></th><th>mas</th><th>mas</th><th>deg</th><th></th><th></th><th></th><th>mas / yr</th><th>mas / yr</th><th>mas / yr</th><th>mas / yr</th><th>deg</th><th></th><th></th><th></th><th></th><th></th><th>deg,deg</th><th></th><th></th><th></th><th></th></tr></thead>\n",
       "<thead><tr><th>object</th><th>str13</th><th>str13</th><th>int16</th><th>int16</th><th>float32</th><th>float32</th><th>int16</th><th>str1</th><th>str1</th><th>object</th><th>float64</th><th>float64</th><th>float32</th><th>float32</th><th>int16</th><th>object</th><th>object</th><th>str1</th><th>object</th><th>int32</th><th>SkyCoord</th><th>str13</th><th>str13</th><th>float64</th><th>float64</th></tr></thead>\n",
       "<tr><td>EGGR 382</td><td>00 33 54.4629</td><td>-12 07 58.777</td><td>14</td><td>14</td><td>0.039</td><td>0.030</td><td>90</td><td>A</td><td>O</td><td>2018yCat.1345....0G</td><td>157.603</td><td>-191.430</td><td>0.101</td><td>0.090</td><td>90</td><td>G158-100</td><td>DC?</td><td>E</td><td>1975ApJ...202..191W</td><td>1</td><td>8.476928749999999,-12.132993611111111</td><td>0:33:54.4629</td><td>-12:07:58.777</td><td>-19.1430</td><td>1.0747</td></tr>\n",
       "<tr><td>Hilt  102</td><td>01 09 05.0413</td><td>+62 47 30.265</td><td>14</td><td>14</td><td>0.021</td><td>0.023</td><td>90</td><td>A</td><td>O</td><td>2018yCat.1345....0G</td><td>-1.356</td><td>-0.101</td><td>0.043</td><td>0.042</td><td>90</td><td>Hiltner102</td><td>B0III</td><td>D</td><td></td><td>2</td><td>17.271005416666664,62.79174027777778</td><td>1:09:05.0413</td><td>62:47:30.265</td><td>-0.0101</td><td>-0.0198</td></tr>\n",
       "<tr><td>LAWD 10</td><td>01 37 59.3936</td><td>-04 59 44.668</td><td>14</td><td>14</td><td>0.015</td><td>0.011</td><td>90</td><td>A</td><td>O</td><td>2020yCat.1350....0G</td><td>580.928</td><td>-350.274</td><td>0.021</td><td>0.013</td><td>90</td><td>L870-2</td><td>DA+D1</td><td>D</td><td>1988ApJ...334..947S</td><td>3</td><td>24.497473333333332,-4.995741111111111</td><td>1:37:59.3936</td><td>-4:59:44.668</td><td>-35.0274</td><td>3.8876</td></tr>\n",
       "<tr><td>BD+12   237</td><td>01 49 09.4876</td><td>+13 33 11.794</td><td>14</td><td>14</td><td>0.064</td><td>0.053</td><td>90</td><td>A</td><td>O</td><td>2018yCat.1345....0G</td><td>6.702</td><td>-2.850</td><td>0.126</td><td>0.111</td><td>90</td><td>Feige15</td><td>sdA0IVHe1</td><td>B</td><td>2013A&amp;A...551A..31D</td><td>4</td><td>27.289531666666665,13.553276111111112</td><td>1:49:09.4876</td><td>13:33:11.794</td><td>-0.2850</td><td>0.0460</td></tr>\n",
       "<tr><td>PG 0205+134</td><td>02 08 03.4975</td><td>+13 36 24.916</td><td>10</td><td>10</td><td>43.000</td><td>32.000</td><td>90</td><td>B</td><td>O</td><td>2012yCat.1322....0Z</td><td>42.800</td><td>-1.600</td><td>4.400</td><td>3.700</td><td>90</td><td>PG0205+134</td><td>DA1+dM</td><td>C</td><td>2009A&amp;A...505..441K</td><td>5</td><td>32.014572916666665,13.606921111111111</td><td>2:08:03.4975</td><td>13:36:24.916</td><td>-0.1600</td><td>0.2936</td></tr>\n",
       "<tr><td>PG 0216+032</td><td>02 19 18.9089</td><td>+03 26 51.366</td><td>14</td><td>14</td><td>0.071</td><td>0.061</td><td>90</td><td>A</td><td>O</td><td>2018yCat.1345....0G</td><td>-3.527</td><td>-31.225</td><td>0.142</td><td>0.118</td><td>90</td><td>PG0216+032</td><td>sdOC</td><td>D</td><td>1986ApJS...61..305G</td><td>6</td><td>34.828787083333324,3.447601666666667</td><td>2:19:18.9089</td><td>3:26:51.366</td><td>-3.1225</td><td>-0.0236</td></tr>\n",
       "<tr><td>V* FS Cet</td><td>02 35 07.5939</td><td>+03 43 56.817</td><td>14</td><td>14</td><td>0.044</td><td>0.043</td><td>90</td><td>A</td><td>O</td><td>2018yCat.1345....0G</td><td>82.539</td><td>7.260</td><td>0.096</td><td>0.096</td><td>90</td><td>Feige24</td><td>DA1+dM</td><td>C</td><td>2009A&amp;A...505..441K</td><td>7</td><td>38.78164125,3.7324491666666666</td><td>2:35:07.5939</td><td>3:43:56.817</td><td>0.7260</td><td>0.5514</td></tr>\n",
       "<tr><td>Feige  25</td><td>02 38 37.7860</td><td>+05 28 11.305</td><td>14</td><td>14</td><td>0.060</td><td>0.050</td><td>90</td><td>A</td><td>O</td><td>2018yCat.1345....0G</td><td>4.818</td><td>0.102</td><td>0.116</td><td>0.107</td><td>90</td><td>Feige25</td><td>B7</td><td>D</td><td></td><td>8</td><td>39.657441666666664,5.469806944444445</td><td>2:38:37.7860</td><td>5:28:11.305</td><td>0.0102</td><td>0.0323</td></tr>\n",
       "<tr><td>HD  19445</td><td>03 08 25.5883</td><td>+26 19 51.400</td><td>14</td><td>14</td><td>0.036</td><td>0.028</td><td>90</td><td>A</td><td>O</td><td>2020yCat.1350....0G</td><td>-209.742</td><td>-829.648</td><td>0.045</td><td>0.037</td><td>90</td><td>HD19445</td><td>G2VFe-3</td><td>C</td><td>2003AJ....126.2048G</td><td>9</td><td>47.106617916666664,26.330944444444444</td><td>3:08:25.5883</td><td>26:19:51.400</td><td>-82.9648</td><td>-1.5602</td></tr>\n",
       "<tr><td>...</td><td>...</td><td>...</td><td>...</td><td>...</td><td>...</td><td>...</td><td>...</td><td>...</td><td>...</td><td>...</td><td>...</td><td>...</td><td>...</td><td>...</td><td>...</td><td>...</td><td>...</td><td>...</td><td>...</td><td>...</td><td>...</td><td>...</td><td>...</td><td>...</td><td>...</td></tr>\n",
       "<tr><td>LAWD 89</td><td>21 47 37.2888</td><td>-07 44 12.376</td><td>10</td><td>10</td><td>100.000</td><td>100.000</td><td>90</td><td>B</td><td>O</td><td>2012yCat.1322....0Z</td><td>249.500</td><td>-131.800</td><td>8.000</td><td>8.000</td><td>90</td><td>L930-80</td><td>DB0</td><td>C</td><td>1952ApJ...116..283L</td><td>72</td><td>326.90537,-7.7367711111111115</td><td>21:47:37.2888</td><td>-7:44:12.376</td><td>-13.1800</td><td>1.6786</td></tr>\n",
       "<tr><td>BD+28  4211</td><td>21 51 11.0220</td><td>+28 51 50.366</td><td>14</td><td>14</td><td>0.068</td><td>0.104</td><td>90</td><td>A</td><td>O</td><td>2018yCat.1345....0G</td><td>-34.728</td><td>-56.851</td><td>0.183</td><td>0.187</td><td>90</td><td>BD+284211</td><td>sdO2VIIIHe5</td><td>B</td><td>2013A&amp;A...551A..31D</td><td>73</td><td>327.795925,28.863990555555556</td><td>21:51:11.0220</td><td>28:51:50.366</td><td>-5.6851</td><td>-0.2644</td></tr>\n",
       "<tr><td>BD+25  4655</td><td>21 59 41.9751</td><td>+26 25 57.398</td><td>14</td><td>14</td><td>0.045</td><td>0.059</td><td>90</td><td>A</td><td>O</td><td>2018yCat.1345....0G</td><td>-37.457</td><td>-41.672</td><td>0.134</td><td>0.121</td><td>90</td><td>BD+254655</td><td>sdO6</td><td>C</td><td>1966VA......8...63G</td><td>74</td><td>329.92489624999996,26.432610555555556</td><td>21:59:41.9751</td><td>26:25:57.398</td><td>-4.1672</td><td>-0.2789</td></tr>\n",
       "<tr><td>BD+17  4708</td><td>22 11 31.3756</td><td>+18 05 34.177</td><td>14</td><td>14</td><td>0.148</td><td>0.138</td><td>90</td><td>A</td><td>O</td><td>2020yCat.1350....0G</td><td>505.945</td><td>59.270</td><td>0.210</td><td>0.177</td><td>90</td><td>BD+174708</td><td>sdF8</td><td>D</td><td>2000A&amp;A...353..978M</td><td>75</td><td>332.88073166666663,18.092826944444443</td><td>22:11:31.3756</td><td>18:05:34.177</td><td>5.9270</td><td>3.5484</td></tr>\n",
       "<tr><td>LP  877-23</td><td>22 52 41.0353</td><td>-20 35 32.994</td><td>14</td><td>14</td><td>0.013</td><td>0.011</td><td>90</td><td>A</td><td>O</td><td>2020yCat.1350....0G</td><td>78.810</td><td>-314.311</td><td>0.014</td><td>0.012</td><td>90</td><td>LTT9239</td><td></td><td></td><td></td><td>76</td><td>343.1709804166666,-20.59249833333333</td><td>22:52:41.0353</td><td>-20:35:32.994</td><td>-31.4311</td><td>0.5613</td></tr>\n",
       "<tr><td>HD 217086</td><td>22 56 47.1887</td><td>+62 43 37.654</td><td>14</td><td>14</td><td>0.026</td><td>0.023</td><td>90</td><td>A</td><td>O</td><td>2018yCat.1345....0G</td><td>-0.318</td><td>-2.077</td><td>0.054</td><td>0.045</td><td>90</td><td>HD217086</td><td>O7Vnn((f))z</td><td>C</td><td>2014ApJS..211...10S</td><td>77</td><td>344.1966195833333,62.72712611111111</td><td>22:56:47.1887</td><td>62:43:37.654</td><td>-0.2077</td><td>-0.0046</td></tr>\n",
       "<tr><td>G 157-34</td><td>23 14 25.1848</td><td>-06 32 47.884</td><td>14</td><td>14</td><td>0.032</td><td>0.031</td><td>90</td><td>A</td><td>O</td><td>2020yCat.1350....0G</td><td>-342.541</td><td>-169.794</td><td>0.039</td><td>0.036</td><td>90</td><td>G157-34</td><td>DC</td><td>D</td><td>1979PASP...91..492H</td><td>78</td><td>348.6049366666666,-6.546634444444444</td><td>23:14:25.1848</td><td>-6:32:47.884</td><td>-16.9794</td><td>-2.2986</td></tr>\n",
       "<tr><td>Feige 110</td><td>23 19 58.3995</td><td>-05 09 56.170</td><td>14</td><td>14</td><td>0.079</td><td>0.058</td><td>90</td><td>A</td><td>O</td><td>2018yCat.1345....0G</td><td>-10.680</td><td>0.310</td><td>4.630</td><td>3.270</td><td>0</td><td>Feige110</td><td>sdO8VIIIHe5</td><td>B</td><td>2013A&amp;A...551A..31D</td><td>79</td><td>349.9933312499999,-5.165602777777778</td><td>23:19:58.3995</td><td>-5:09:56.170</td><td>0.0310</td><td>-0.0715</td></tr>\n",
       "<tr><td>GD 248</td><td>23 26 06.5870</td><td>+16 00 19.282</td><td>14</td><td>14</td><td>0.034</td><td>0.026</td><td>90</td><td>A</td><td>O</td><td>2018yCat.1345....0G</td><td>-41.516</td><td>-115.571</td><td>0.101</td><td>0.053</td><td>90</td><td>GD248</td><td>DA5</td><td>C</td><td>1997ApJS..112..527P</td><td>80</td><td>351.5274458333333,16.005356111111112</td><td>23:26:06.5870</td><td>16:00:19.282</td><td>-11.5571</td><td>-0.2879</td></tr>\n",
       "<tr><td>LAWD 93</td><td>23 43 50.7211</td><td>+32 32 46.726</td><td>14</td><td>14</td><td>0.111</td><td>0.039</td><td>90</td><td>A</td><td>O</td><td>2018yCat.1345....0G</td><td>-215.819</td><td>-59.745</td><td>0.165</td><td>0.065</td><td>90</td><td>EGGR162</td><td>DA3.8</td><td>C</td><td>2011ApJ...743..138G</td><td>81</td><td>355.9613379166666,32.54631277777778</td><td>23:43:50.7211</td><td>32:32:46.726</td><td>-5.9745</td><td>-1.7068</td></tr>\n",
       "</table></div>"
      ],
      "text/plain": [
       "<Table length=81>\n",
       "  MAIN_ID         RA           DEC      ...    DEC_MMT    PMDEC_MMT PMRA_MMT\n",
       "               \"h:m:s\"       \"d:m:s\"    ...                                 \n",
       "   object       str13         str13     ...     str13      float64  float64 \n",
       "----------- ------------- ------------- ... ------------- --------- --------\n",
       "   EGGR 382 00 33 54.4629 -12 07 58.777 ... -12:07:58.777  -19.1430   1.0747\n",
       "  Hilt  102 01 09 05.0413 +62 47 30.265 ...  62:47:30.265   -0.0101  -0.0198\n",
       "    LAWD 10 01 37 59.3936 -04 59 44.668 ...  -4:59:44.668  -35.0274   3.8876\n",
       "BD+12   237 01 49 09.4876 +13 33 11.794 ...  13:33:11.794   -0.2850   0.0460\n",
       "PG 0205+134 02 08 03.4975 +13 36 24.916 ...  13:36:24.916   -0.1600   0.2936\n",
       "PG 0216+032 02 19 18.9089 +03 26 51.366 ...   3:26:51.366   -3.1225  -0.0236\n",
       "  V* FS Cet 02 35 07.5939 +03 43 56.817 ...   3:43:56.817    0.7260   0.5514\n",
       "  Feige  25 02 38 37.7860 +05 28 11.305 ...   5:28:11.305    0.0102   0.0323\n",
       "  HD  19445 03 08 25.5883 +26 19 51.400 ...  26:19:51.400  -82.9648  -1.5602\n",
       "        ...           ...           ... ...           ...       ...      ...\n",
       "    LAWD 89 21 47 37.2888 -07 44 12.376 ...  -7:44:12.376  -13.1800   1.6786\n",
       "BD+28  4211 21 51 11.0220 +28 51 50.366 ...  28:51:50.366   -5.6851  -0.2644\n",
       "BD+25  4655 21 59 41.9751 +26 25 57.398 ...  26:25:57.398   -4.1672  -0.2789\n",
       "BD+17  4708 22 11 31.3756 +18 05 34.177 ...  18:05:34.177    5.9270   3.5484\n",
       " LP  877-23 22 52 41.0353 -20 35 32.994 ... -20:35:32.994  -31.4311   0.5613\n",
       "  HD 217086 22 56 47.1887 +62 43 37.654 ...  62:43:37.654   -0.2077  -0.0046\n",
       "   G 157-34 23 14 25.1848 -06 32 47.884 ...  -6:32:47.884  -16.9794  -2.2986\n",
       "  Feige 110 23 19 58.3995 -05 09 56.170 ...  -5:09:56.170    0.0310  -0.0715\n",
       "     GD 248 23 26 06.5870 +16 00 19.282 ...  16:00:19.282  -11.5571  -0.2879\n",
       "    LAWD 93 23 43 50.7211 +32 32 46.726 ...  32:32:46.726   -5.9745  -1.7068"
      ]
     },
     "execution_count": 30,
     "metadata": {},
     "output_type": "execute_result"
    }
   ],
   "source": [
    "sim_table"
   ]
  },
  {
   "cell_type": "code",
   "execution_count": 52,
   "metadata": {},
   "outputs": [
    {
     "data": {
      "text/plain": [
       "['    ID          RA          Dec      PM_RA PM_Dec  Mag   Epoch ',\n",
       " '---------- ------------ ------------ ----- ------ ----- -------',\n",
       " 'G158-100   00:33:54.600 -12:07:58.90  1.11  -17.3 14.89 J2000.0',\n",
       " 'Hiltner102 01:09:05.050 +62:47:30.20   0.0    0.0 10.42 J2000.0',\n",
       " 'L870-2     01:37:59.380 -04:59:44.90  3.82  -34.0 12.86 J2000.0',\n",
       " 'Feige15    01:49:09.480 +13:33:11.80   0.0    0.0 10.19 J2000.0',\n",
       " 'PG0205+134 02:08:03.500 +13:36:31.00   0.0    0.0 14.87 J2000.0',\n",
       " 'PG0216+032 02:19:18.900 +03:26:53.00   0.0    0.0 14.79 J2000.0',\n",
       " 'Feige24    02:35:07.600 +03:43:56.80  0.55    1.0  12.4 J2000.0',\n",
       " 'Feige25    02:38:37.780 +05:28:11.30   0.0    0.0 12.04 J2000.0',\n",
       " 'HD19445    03:08:25.590 +26:19:51.40   0.0    0.0  8.05 J2000.0',\n",
       " 'PG0310+149 03:13:37.000 +15:06:24.00   0.0    0.0 15.63 J2000.0',\n",
       " '...                 ...          ...   ...    ...   ...     ...',\n",
       " 'L1363-3    21:42:41:110 +20:59:57.10 -1.71  -66.0 13.27 J2000.0',\n",
       " 'L930-80    21:47:38.000 -07:44:18.00  2.09  -16.0 14.83 J2000.0',\n",
       " 'BD+284211  21:51:11.020 +28:51:50.40   0.0    0.0 10.54 J2000.0',\n",
       " 'BD+254655  21:59:41.970 +26:25:57.40   0.0    0.0  9.68 J2000.0',\n",
       " 'BD+174708  22:11:31.370 +18:05:34.20   0.0    0.0  9.47 J2000.0',\n",
       " 'LTT9239    22:52:41.050 -20:35:32.70   0.0    0.0 12.06 J2000.0',\n",
       " 'HD217086   22:56:47.190 +62:43:37.60   0.0    0.0  7.71 J2000.0',\n",
       " 'G157-34    23:14:27.500 -06:32:27.00  -2.3  -16.1 15.37 J2000.0',\n",
       " 'Feige110   23:19:58.400 -05:09:56.20  0.02   -0.3  11.4 J2000.0',\n",
       " 'GD248      23:26:06.580 +16:00:19.50 -0.33   -8.7 15.11 J2000.0',\n",
       " 'EGGR162    23:43:50.720 +32:32:46.60 -1.81   -6.0 12.92 J2000.0',\n",
       " 'Length = 81 rows']"
      ]
     },
     "execution_count": 52,
     "metadata": {},
     "output_type": "execute_result"
    }
   ],
   "source": [
    "sphot.pformat(align=[\"<\", None, None, None, None, None, None])"
   ]
  },
  {
   "cell_type": "code",
   "execution_count": 69,
   "metadata": {},
   "outputs": [
    {
     "data": {
      "text/html": [
       "<div><i>Table length=81</i>\n",
       "<table id=\"table140345478161360\" class=\"table-striped table-bordered table-condensed\">\n",
       "<thead><tr><th>ID</th><th>RA</th><th>Dec</th><th>PM_RA</th><th>PM_Dec</th><th>Mag</th><th>Sp_Type</th><th>Epoch</th></tr></thead>\n",
       "<thead><tr><th>str10</th><th>str13</th><th>str13</th><th>float64</th><th>float64</th><th>float64</th><th>object</th><th>str7</th></tr></thead>\n",
       "<tr><td>G158-100</td><td>0:33:54.4629</td><td>-12:07:58.777</td><td>1.0747</td><td>-19.1430</td><td>14.89</td><td>DC?</td><td>J2000.0</td></tr>\n",
       "<tr><td>Hiltner102</td><td>1:09:05.0413</td><td>62:47:30.265</td><td>-0.0198</td><td>-0.0101</td><td>10.42</td><td>B0III</td><td>J2000.0</td></tr>\n",
       "<tr><td>L870-2</td><td>1:37:59.3936</td><td>-4:59:44.668</td><td>3.8876</td><td>-35.0274</td><td>12.86</td><td>DA+D1</td><td>J2000.0</td></tr>\n",
       "<tr><td>Feige15</td><td>1:49:09.4876</td><td>13:33:11.794</td><td>0.0460</td><td>-0.2850</td><td>10.19</td><td>sdA0IVHe1</td><td>J2000.0</td></tr>\n",
       "<tr><td>PG0205+134</td><td>2:08:03.4975</td><td>13:36:24.916</td><td>0.2936</td><td>-0.1600</td><td>14.87</td><td>DA1+dM</td><td>J2000.0</td></tr>\n",
       "<tr><td>PG0216+032</td><td>2:19:18.9089</td><td>3:26:51.366</td><td>-0.0236</td><td>-3.1225</td><td>14.79</td><td>sdOC</td><td>J2000.0</td></tr>\n",
       "<tr><td>Feige24</td><td>2:35:07.5939</td><td>3:43:56.817</td><td>0.5514</td><td>0.7260</td><td>12.40</td><td>DA1+dM</td><td>J2000.0</td></tr>\n",
       "<tr><td>Feige25</td><td>2:38:37.7860</td><td>5:28:11.305</td><td>0.0323</td><td>0.0102</td><td>12.04</td><td>B7</td><td>J2000.0</td></tr>\n",
       "<tr><td>HD19445</td><td>3:08:25.5883</td><td>26:19:51.400</td><td>-1.5602</td><td>-82.9648</td><td>8.05</td><td>G2VFe-3</td><td>J2000.0</td></tr>\n",
       "<tr><td>PG0310+149</td><td>3:13:37.1752</td><td>15:06:21.260</td><td>0.0189</td><td>0.1513</td><td>15.63</td><td>sdO</td><td>J2000.0</td></tr>\n",
       "<tr><td>...</td><td>...</td><td>...</td><td>...</td><td>...</td><td>...</td><td>...</td><td>...</td></tr>\n",
       "<tr><td>L930-80</td><td>21:47:37.2888</td><td>-7:44:12.376</td><td>1.6786</td><td>-13.1800</td><td>14.83</td><td>DB0</td><td>J2000.0</td></tr>\n",
       "<tr><td>BD+284211</td><td>21:51:11.0220</td><td>28:51:50.366</td><td>-0.2644</td><td>-5.6851</td><td>10.54</td><td>sdO2VIIIHe5</td><td>J2000.0</td></tr>\n",
       "<tr><td>BD+254655</td><td>21:59:41.9751</td><td>26:25:57.398</td><td>-0.2789</td><td>-4.1672</td><td>9.68</td><td>sdO6</td><td>J2000.0</td></tr>\n",
       "<tr><td>BD+174708</td><td>22:11:31.3756</td><td>18:05:34.177</td><td>3.5484</td><td>5.9270</td><td>9.47</td><td>sdF8</td><td>J2000.0</td></tr>\n",
       "<tr><td>LTT9239</td><td>22:52:41.0353</td><td>-20:35:32.994</td><td>0.5613</td><td>-31.4311</td><td>12.06</td><td>Unknown</td><td>J2000.0</td></tr>\n",
       "<tr><td>HD217086</td><td>22:56:47.1887</td><td>62:43:37.654</td><td>-0.0046</td><td>-0.2077</td><td>7.71</td><td>O7Vnn((f))z</td><td>J2000.0</td></tr>\n",
       "<tr><td>G157-34</td><td>23:14:25.1848</td><td>-6:32:47.884</td><td>-2.2986</td><td>-16.9794</td><td>15.37</td><td>DC</td><td>J2000.0</td></tr>\n",
       "<tr><td>Feige110</td><td>23:19:58.3995</td><td>-5:09:56.170</td><td>-0.0715</td><td>0.0310</td><td>11.40</td><td>sdO8VIIIHe5</td><td>J2000.0</td></tr>\n",
       "<tr><td>GD248</td><td>23:26:06.5870</td><td>16:00:19.282</td><td>-0.2879</td><td>-11.5571</td><td>15.11</td><td>DA5</td><td>J2000.0</td></tr>\n",
       "<tr><td>EGGR162</td><td>23:43:50.7211</td><td>32:32:46.726</td><td>-1.7068</td><td>-5.9745</td><td>12.92</td><td>DA3.8</td><td>J2000.0</td></tr>\n",
       "</table></div>"
      ],
      "text/plain": [
       "<Table length=81>\n",
       "       ID             RA           Dec      ...   Mag     Sp_Type    Epoch \n",
       "     str10          str13         str13     ... float64    object     str7 \n",
       "--------------- ------------- ------------- ... ------- ----------- -------\n",
       "G158-100         0:33:54.4629 -12:07:58.777 ...   14.89         DC? J2000.0\n",
       "Hiltner102       1:09:05.0413  62:47:30.265 ...   10.42       B0III J2000.0\n",
       "L870-2           1:37:59.3936  -4:59:44.668 ...   12.86       DA+D1 J2000.0\n",
       "Feige15          1:49:09.4876  13:33:11.794 ...   10.19   sdA0IVHe1 J2000.0\n",
       "PG0205+134       2:08:03.4975  13:36:24.916 ...   14.87      DA1+dM J2000.0\n",
       "PG0216+032       2:19:18.9089   3:26:51.366 ...   14.79        sdOC J2000.0\n",
       "Feige24          2:35:07.5939   3:43:56.817 ...   12.40      DA1+dM J2000.0\n",
       "Feige25          2:38:37.7860   5:28:11.305 ...   12.04          B7 J2000.0\n",
       "HD19445          3:08:25.5883  26:19:51.400 ...    8.05     G2VFe-3 J2000.0\n",
       "PG0310+149       3:13:37.1752  15:06:21.260 ...   15.63         sdO J2000.0\n",
       "...                       ...           ... ...     ...         ...     ...\n",
       "L930-80         21:47:37.2888  -7:44:12.376 ...   14.83         DB0 J2000.0\n",
       "BD+284211       21:51:11.0220  28:51:50.366 ...   10.54 sdO2VIIIHe5 J2000.0\n",
       "BD+254655       21:59:41.9751  26:25:57.398 ...    9.68        sdO6 J2000.0\n",
       "BD+174708       22:11:31.3756  18:05:34.177 ...    9.47        sdF8 J2000.0\n",
       "LTT9239         22:52:41.0353 -20:35:32.994 ...   12.06     Unknown J2000.0\n",
       "HD217086        22:56:47.1887  62:43:37.654 ...    7.71 O7Vnn((f))z J2000.0\n",
       "G157-34         23:14:25.1848  -6:32:47.884 ...   15.37          DC J2000.0\n",
       "Feige110        23:19:58.3995  -5:09:56.170 ...   11.40 sdO8VIIIHe5 J2000.0\n",
       "GD248           23:26:06.5870  16:00:19.282 ...   15.11         DA5 J2000.0\n",
       "EGGR162         23:43:50.7211  32:32:46.726 ...   12.92       DA3.8 J2000.0"
      ]
     },
     "execution_count": 69,
     "metadata": {},
     "output_type": "execute_result"
    }
   ],
   "source": [
    "new_sphot = Table()\n",
    "new_sphot['ID'] = Column(sphot['ID'], format='<15')\n",
    "new_sphot['RA'] = sim_table['RA_MMT']\n",
    "new_sphot['Dec'] = sim_table['DEC_MMT']\n",
    "new_sphot['PM_RA'] = sim_table['PMRA_MMT']\n",
    "new_sphot['PM_Dec'] = sim_table['PMDEC_MMT']\n",
    "new_sphot['Mag'] = Column(sphot['Mag'], format='.2f')\n",
    "new_sphot['Sp_Type'] = sim_table['SP_TYPE']\n",
    "new_sphot['Epoch'] = sphot['Epoch']\n",
    "new_sphot['Sp_Type'][new_sphot['Sp_Type'] == ''] = 'Unknown'\n",
    "new_sphot.add_index('ID')\n",
    "new_sphot"
   ]
  },
  {
   "cell_type": "code",
   "execution_count": 70,
   "metadata": {},
   "outputs": [],
   "source": [
    "new_sphot.write(\"test.cat\", format='ascii.fixed_width_no_header', delimiter=None, overwrite=True, bookend=False)"
   ]
  },
  {
   "cell_type": "code",
   "execution_count": 40,
   "metadata": {},
   "outputs": [],
   "source": [
    "c = new_sphot['ID']"
   ]
  },
  {
   "cell_type": "code",
   "execution_count": null,
   "metadata": {},
   "outputs": [],
   "source": []
  }
 ],
 "metadata": {
  "interpreter": {
   "hash": "ecc22ddafbb7680a410089353d25f05dc1cd64666e6afd042de696b9ecdc2135"
  },
  "kernelspec": {
   "display_name": "Python 3.9.7 64-bit ('py39': conda)",
   "language": "python",
   "name": "python3"
  },
  "language_info": {
   "codemirror_mode": {
    "name": "ipython",
    "version": 3
   },
   "file_extension": ".py",
   "mimetype": "text/x-python",
   "name": "python",
   "nbconvert_exporter": "python",
   "pygments_lexer": "ipython3",
   "version": "3.9.7"
  },
  "orig_nbformat": 4
 },
 "nbformat": 4,
 "nbformat_minor": 2
}
