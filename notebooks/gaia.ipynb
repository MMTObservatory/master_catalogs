{
 "cells": [
  {
   "cell_type": "code",
   "execution_count": 1,
   "metadata": {},
   "outputs": [],
   "source": [
    "import numpy as np\n",
    "\n",
    "import astropy.units as u\n",
    "from astroquery.gaia import Gaia\n",
    "from astropy.table import Table, Column\n",
    "from astropy.io import ascii\n",
    "from astropy.time import Time\n",
    "from astropy.coordinates import SkyCoord, Distance"
   ]
  },
  {
   "cell_type": "code",
   "execution_count": 2,
   "metadata": {},
   "outputs": [
    {
     "name": "stdout",
     "output_type": "stream",
     "text": [
      "Retrieving table 'gaiaedr3.gaia_source'\n"
     ]
    }
   ],
   "source": [
    "table = Gaia.load_table('gaiaedr3.gaia_source')"
   ]
  },
  {
   "cell_type": "code",
   "execution_count": 3,
   "metadata": {},
   "outputs": [],
   "source": [
    "SPEC_CAT = ascii.read(\"../reference_data/color_table.txt\").to_pandas()\n",
    "\n",
    "def gaia_sptype(color, cat=SPEC_CAT, color_name='G-Rp'):\n",
    "    diff = cat[color_name] - color\n",
    "    absdiff = abs(diff)\n",
    "    sptype = cat.loc[absdiff.idxmin()]['SpT'].replace('V', '')\n",
    "    return sptype"
   ]
  },
  {
   "cell_type": "code",
   "execution_count": 4,
   "metadata": {},
   "outputs": [
    {
     "name": "stdout",
     "output_type": "stream",
     "text": [
      "solution_id\n",
      "designation\n",
      "source_id\n",
      "random_index\n",
      "ref_epoch\n",
      "ra\n",
      "ra_error\n",
      "dec\n",
      "dec_error\n",
      "parallax\n",
      "parallax_error\n",
      "parallax_over_error\n",
      "pm\n",
      "pmra\n",
      "pmra_error\n",
      "pmdec\n",
      "pmdec_error\n",
      "ra_dec_corr\n",
      "ra_parallax_corr\n",
      "ra_pmra_corr\n",
      "ra_pmdec_corr\n",
      "dec_parallax_corr\n",
      "dec_pmra_corr\n",
      "dec_pmdec_corr\n",
      "parallax_pmra_corr\n",
      "parallax_pmdec_corr\n",
      "pmra_pmdec_corr\n",
      "astrometric_n_obs_al\n",
      "astrometric_n_obs_ac\n",
      "astrometric_n_good_obs_al\n",
      "astrometric_n_bad_obs_al\n",
      "astrometric_gof_al\n",
      "astrometric_chi2_al\n",
      "astrometric_excess_noise\n",
      "astrometric_excess_noise_sig\n",
      "astrometric_params_solved\n",
      "astrometric_primary_flag\n",
      "nu_eff_used_in_astrometry\n",
      "pseudocolour\n",
      "pseudocolour_error\n",
      "ra_pseudocolour_corr\n",
      "dec_pseudocolour_corr\n",
      "parallax_pseudocolour_corr\n",
      "pmra_pseudocolour_corr\n",
      "pmdec_pseudocolour_corr\n",
      "astrometric_matched_transits\n",
      "visibility_periods_used\n",
      "astrometric_sigma5d_max\n",
      "matched_transits\n",
      "new_matched_transits\n",
      "matched_transits_removed\n",
      "ipd_gof_harmonic_amplitude\n",
      "ipd_gof_harmonic_phase\n",
      "ipd_frac_multi_peak\n",
      "ipd_frac_odd_win\n",
      "ruwe\n",
      "scan_direction_strength_k1\n",
      "scan_direction_strength_k2\n",
      "scan_direction_strength_k3\n",
      "scan_direction_strength_k4\n",
      "scan_direction_mean_k1\n",
      "scan_direction_mean_k2\n",
      "scan_direction_mean_k3\n",
      "scan_direction_mean_k4\n",
      "duplicated_source\n",
      "phot_g_n_obs\n",
      "phot_g_mean_flux\n",
      "phot_g_mean_flux_error\n",
      "phot_g_mean_flux_over_error\n",
      "phot_g_mean_mag\n",
      "phot_bp_n_obs\n",
      "phot_bp_mean_flux\n",
      "phot_bp_mean_flux_error\n",
      "phot_bp_mean_flux_over_error\n",
      "phot_bp_mean_mag\n",
      "phot_rp_n_obs\n",
      "phot_rp_mean_flux\n",
      "phot_rp_mean_flux_error\n",
      "phot_rp_mean_flux_over_error\n",
      "phot_rp_mean_mag\n",
      "phot_bp_n_contaminated_transits\n",
      "phot_bp_n_blended_transits\n",
      "phot_rp_n_contaminated_transits\n",
      "phot_rp_n_blended_transits\n",
      "phot_proc_mode\n",
      "phot_bp_rp_excess_factor\n",
      "bp_rp\n",
      "bp_g\n",
      "g_rp\n",
      "dr2_radial_velocity\n",
      "dr2_radial_velocity_error\n",
      "dr2_rv_nb_transits\n",
      "dr2_rv_template_teff\n",
      "dr2_rv_template_logg\n",
      "dr2_rv_template_fe_h\n",
      "l\n",
      "b\n",
      "ecl_lon\n",
      "ecl_lat\n"
     ]
    }
   ],
   "source": [
    "for col in table.columns:\n",
    "    print(col.name)"
   ]
  },
  {
   "cell_type": "code",
   "execution_count": 23,
   "metadata": {},
   "outputs": [
    {
     "name": "stdout",
     "output_type": "stream",
     "text": [
      "INFO: Query finished. [astroquery.utils.tap.core]\n"
     ]
    }
   ],
   "source": [
    "#def gaia2mmt(nstars, )\n",
    "job = Gaia.launch_job_async(\n",
    "    \"select top 10000 designation,ref_epoch,ra,dec,pmra,pmdec,phot_g_mean_mag as gmag,g_rp \"\n",
    "    \"from gaiaedr3.gaia_source where (phot_g_mean_mag > 8. AND dec > -25 AND pmra IS NOT NULL) order by gmag\"\n",
    ")"
   ]
  },
  {
   "cell_type": "code",
   "execution_count": 24,
   "metadata": {},
   "outputs": [],
   "source": [
    "r = job.get_results()\n",
    "r['sptype'] = [gaia_sptype(g_rp) for g_rp in r['g_rp']]\n",
    "ids = [f\"GEDR3_{s[-10:]}\" for s in r['designation']]"
   ]
  },
  {
   "cell_type": "code",
   "execution_count": 25,
   "metadata": {},
   "outputs": [
    {
     "name": "stderr",
     "output_type": "stream",
     "text": [
      "/home/tim/conda/envs/py39/lib/python3.9/site-packages/erfa/core.py:154: ErfaWarning: ERFA function \"pmsafe\" yielded 9999 of \"distance overridden (Note 6)\", 1 of \"binary logical OR of the above warnings\"\n",
      "  warnings.warn('ERFA function \"{}\" yielded {}'.format(func_name, wmsg),\n"
     ]
    }
   ],
   "source": [
    "t_obs = Time(r['ref_epoch'].data, format='decimalyear')\n",
    "t_ref = Time('J2000')\n",
    "c = SkyCoord(\n",
    "    ra=r['ra'],\n",
    "    dec=r['dec'],\n",
    "    #distance=Distance(100 * u.kpc),  # this is kind of a hack to work around astropy pedantry\n",
    "    pm_ra_cosdec=r['pmra'],\n",
    "    pm_dec=r['pmdec'],\n",
    "    obstime=t_obs,\n",
    "    frame='icrs'\n",
    ")\n",
    "c_j2000 = c.apply_space_motion(t_ref)\n",
    "ra_2000 = c_j2000.ra.to_string(unit=u.hr, sep=\":\", precision=4, pad=True)\n",
    "dec_2000 = c_j2000.dec.to_string(unit=u.deg, sep=\":\", alwayssign=True, precision=3, pad=True)\n",
    "pmra_mmt = r['pmra'].data / 15. / 10. / np.cos(c_j2000.dec)  # MMT uses seconds of time per century\n",
    "pmdec_mmt = r['pmdec'].data / 10.  # MMT uses seconds of arc per century\n"
   ]
  },
  {
   "cell_type": "code",
   "execution_count": 26,
   "metadata": {},
   "outputs": [],
   "source": [
    "out_tab = Table()\n",
    "out_tab['ID'] = Column(ids, format='<15')\n",
    "out_tab['RA'] = Column(ra_2000)\n",
    "out_tab['Dec'] = Column(dec_2000)\n",
    "out_tab['PM_RA'] = Column(pmra_mmt.data, format=\".4f\")\n",
    "out_tab['PM_Dec'] = Column(pmdec_mmt.data, format=\".4f\")\n",
    "out_tab['Mag'] = Column(r['gmag'].data, format=\".2f\")\n",
    "out_tab['Sp_Type'] = Column(r['sptype'])\n",
    "out_tab.add_column('J2000.0', name='Epoch')\n",
    "#out_tab = out_tab[not np.isnan(out_tab['PM_RA'])]\n",
    "out_tab.write(\"test.cat\", format='ascii.fixed_width_no_header', delimiter=None, overwrite=True, bookend=False)"
   ]
  },
  {
   "cell_type": "code",
   "execution_count": 11,
   "metadata": {},
   "outputs": [
    {
     "data": {
      "text/html": [
       "<div><i>Table length=10000</i>\n",
       "<table id=\"table140322217086784\" class=\"table-striped table-bordered table-condensed\">\n",
       "<thead><tr><th>designation</th><th>ref_epoch</th><th>ra</th><th>dec</th><th>pmra</th><th>pmdec</th><th>gmag</th><th>g_rp</th><th>sptype</th></tr></thead>\n",
       "<thead><tr><th></th><th>yr</th><th>deg</th><th>deg</th><th>mas / yr</th><th>mas / yr</th><th>mag</th><th>mag</th><th></th></tr></thead>\n",
       "<thead><tr><th>object</th><th>float64</th><th>float64</th><th>float64</th><th>float64</th><th>float64</th><th>float32</th><th>float32</th><th>str4</th></tr></thead>\n",
       "<tr><td>Gaia EDR3 4382944375300246528</td><td>2016.0</td><td>250.71768526703008</td><td>0.07525482803124896</td><td>11.769904520217906</td><td>3.683946654793089</td><td>8.000009</td><td>0.7918658</td><td>K6</td></tr>\n",
       "<tr><td>Gaia EDR3 5616982973026239744</td><td>2016.0</td><td>111.24600126675567</td><td>-24.426311998237164</td><td>-8.501098184244631</td><td>5.64171298412784</td><td>8.000086</td><td>-0.12911797</td><td>B9</td></tr>\n",
       "<tr><td>Gaia EDR3 3945629435127382528</td><td>2016.0</td><td>185.74724024916904</td><td>16.243332374121266</td><td>19.41486579332065</td><td>-22.33261375460637</td><td>8.000116</td><td>0.6855931</td><td>K3.5</td></tr>\n",
       "<tr><td>Gaia EDR3 2036262278731833344</td><td>2016.0</td><td>287.9051748825728</td><td>26.397090985854057</td><td>-13.595149561492466</td><td>-21.87414342033881</td><td>8.000144</td><td>0.8176441</td><td>K6.5</td></tr>\n",
       "<tr><td>Gaia EDR3 3620575830445064704</td><td>2016.0</td><td>208.54210924154953</td><td>-5.773213262372844</td><td>-24.048271047237524</td><td>0.15523560215845558</td><td>8.000181</td><td>0.8807292</td><td>K8</td></tr>\n",
       "<tr><td>Gaia EDR3 976527442574792192</td><td>2016.0</td><td>109.66576343874337</td><td>48.12328457227269</td><td>6.017020820820831</td><td>9.127265484636935</td><td>8.000214</td><td>0.72763634</td><td>K4.5</td></tr>\n",
       "<tr><td>Gaia EDR3 359589818965062272</td><td>2016.0</td><td>29.207144841444887</td><td>51.417521661928085</td><td>8.854878661123966</td><td>-23.270741330090175</td><td>8.00022</td><td>0.87609005</td><td>K8</td></tr>\n",
       "<tr><td>Gaia EDR3 451958622584743424</td><td>2016.0</td><td>36.71957573728719</td><td>52.11740588931467</td><td>-1.757130434088841</td><td>-1.8186743882921248</td><td>8.000224</td><td>1.2220955</td><td>M4</td></tr>\n",
       "<tr><td>Gaia EDR3 2828797200678897152</td><td>2016.0</td><td>343.2914167635504</td><td>16.50815134029775</td><td>-52.061058456725455</td><td>-30.788466681062637</td><td>8.000245</td><td>0.4358716</td><td>G0</td></tr>\n",
       "<tr><td>...</td><td>...</td><td>...</td><td>...</td><td>...</td><td>...</td><td>...</td><td>...</td><td>...</td></tr>\n",
       "<tr><td>Gaia EDR3 223147985099168384</td><td>2016.0</td><td>56.616306738971815</td><td>37.14779691581267</td><td>-11.290198108061876</td><td>-1.827093660258941</td><td>8.198597</td><td>0.7477212</td><td>K5</td></tr>\n",
       "<tr><td>Gaia EDR3 4070353120780088576</td><td>2016.0</td><td>269.0687343037868</td><td>-22.034650958778105</td><td>2.9180675370479654</td><td>1.7851265345721488</td><td>8.198678</td><td>1.2382812</td><td>M4</td></tr>\n",
       "<tr><td>Gaia EDR3 74473637696617216</td><td>2016.0</td><td>36.96038303727568</td><td>12.957350901428212</td><td>-6.727147744353641</td><td>-26.515315074726253</td><td>8.198694</td><td>0.457839</td><td>G2</td></tr>\n",
       "<tr><td>Gaia EDR3 4105885861921243392</td><td>2016.0</td><td>282.07306918762595</td><td>-12.378639414603347</td><td>10.097713405451113</td><td>3.2975371093962607</td><td>8.198709</td><td>1.573957</td><td>M8</td></tr>\n",
       "<tr><td>Gaia EDR3 3964895043508685312</td><td>2016.0</td><td>169.1483204197465</td><td>12.46286935896979</td><td>-104.45738809557224</td><td>93.79929057342906</td><td>8.198709</td><td>0.53062296</td><td>G9</td></tr>\n",
       "<tr><td>Gaia EDR3 2295883053070259456</td><td>2016.0</td><td>281.13328304411147</td><td>81.06542926721701</td><td>3.76347222978022</td><td>2.299030920373497</td><td>8.198711</td><td>0.743937</td><td>K5</td></tr>\n",
       "<tr><td>Gaia EDR3 2355338800744191616</td><td>2016.0</td><td>19.37148688605578</td><td>-17.53872859216556</td><td>-13.342204774165547</td><td>-30.302816265619768</td><td>8.198756</td><td>0.66422844</td><td>K3</td></tr>\n",
       "<tr><td>Gaia EDR3 2197960959834190464</td><td>2016.0</td><td>332.1784030855216</td><td>56.030394711343284</td><td>-61.245897919558544</td><td>-48.369476366937064</td><td>8.198758</td><td>0.4171939</td><td>F9.5</td></tr>\n",
       "<tr><td>Gaia EDR3 885917651402086144</td><td>2016.0</td><td>110.54264534360418</td><td>30.279733204133706</td><td>-0.12185294072939468</td><td>-11.641044850462654</td><td>8.198764</td><td>0.59091043</td><td>K1.5</td></tr>\n",
       "<tr><td>Gaia EDR3 5671870383021268736</td><td>2016.0</td><td>149.93426313981217</td><td>-18.664939845605772</td><td>0.9988272407700862</td><td>-12.270285431918522</td><td>8.19877</td><td>0.2325325</td><td>F0</td></tr>\n",
       "</table></div>"
      ],
      "text/plain": [
       "<Table length=10000>\n",
       "         designation          ref_epoch ...     g_rp    sptype\n",
       "                                  yr    ...     mag           \n",
       "            object             float64  ...   float32    str4 \n",
       "----------------------------- --------- ... ----------- ------\n",
       "Gaia EDR3 4382944375300246528    2016.0 ...   0.7918658     K6\n",
       "Gaia EDR3 5616982973026239744    2016.0 ... -0.12911797     B9\n",
       "Gaia EDR3 3945629435127382528    2016.0 ...   0.6855931   K3.5\n",
       "Gaia EDR3 2036262278731833344    2016.0 ...   0.8176441   K6.5\n",
       "Gaia EDR3 3620575830445064704    2016.0 ...   0.8807292     K8\n",
       " Gaia EDR3 976527442574792192    2016.0 ...  0.72763634   K4.5\n",
       " Gaia EDR3 359589818965062272    2016.0 ...  0.87609005     K8\n",
       " Gaia EDR3 451958622584743424    2016.0 ...   1.2220955     M4\n",
       "Gaia EDR3 2828797200678897152    2016.0 ...   0.4358716     G0\n",
       "                          ...       ... ...         ...    ...\n",
       " Gaia EDR3 223147985099168384    2016.0 ...   0.7477212     K5\n",
       "Gaia EDR3 4070353120780088576    2016.0 ...   1.2382812     M4\n",
       "  Gaia EDR3 74473637696617216    2016.0 ...    0.457839     G2\n",
       "Gaia EDR3 4105885861921243392    2016.0 ...    1.573957     M8\n",
       "Gaia EDR3 3964895043508685312    2016.0 ...  0.53062296     G9\n",
       "Gaia EDR3 2295883053070259456    2016.0 ...    0.743937     K5\n",
       "Gaia EDR3 2355338800744191616    2016.0 ...  0.66422844     K3\n",
       "Gaia EDR3 2197960959834190464    2016.0 ...   0.4171939   F9.5\n",
       " Gaia EDR3 885917651402086144    2016.0 ...  0.59091043   K1.5\n",
       "Gaia EDR3 5671870383021268736    2016.0 ...   0.2325325     F0"
      ]
     },
     "execution_count": 11,
     "metadata": {},
     "output_type": "execute_result"
    }
   ],
   "source": [
    "r"
   ]
  },
  {
   "cell_type": "code",
   "execution_count": 16,
   "metadata": {},
   "outputs": [],
   "source": [
    "r.filled().write(\"gaia.cat\", format='ascii.fixed_width_no_header', delimiter=None, overwrite=True, bookend=False)"
   ]
  },
  {
   "cell_type": "code",
   "execution_count": 91,
   "metadata": {},
   "outputs": [
    {
     "data": {
      "text/plain": [
       "masked_array(data=[14.276452511494501, 8.592570027988241,\n",
       "                   -56.70330482029109, ..., -16.28740924268928,\n",
       "                   2.6886430063114286, -1.087576964993453],\n",
       "             mask=[False, False, False, ..., False, False, False],\n",
       "       fill_value=1e+20)"
      ]
     },
     "execution_count": 91,
     "metadata": {},
     "output_type": "execute_result"
    }
   ],
   "source": [
    "r['pmra'].data"
   ]
  },
  {
   "cell_type": "code",
   "execution_count": null,
   "metadata": {},
   "outputs": [],
   "source": []
  }
 ],
 "metadata": {
  "interpreter": {
   "hash": "ecc22ddafbb7680a410089353d25f05dc1cd64666e6afd042de696b9ecdc2135"
  },
  "kernelspec": {
   "display_name": "Python 3.9.7 64-bit ('py39': conda)",
   "language": "python",
   "name": "python3"
  },
  "language_info": {
   "codemirror_mode": {
    "name": "ipython",
    "version": 3
   },
   "file_extension": ".py",
   "mimetype": "text/x-python",
   "name": "python",
   "nbconvert_exporter": "python",
   "pygments_lexer": "ipython3",
   "version": "3.9.7"
  },
  "orig_nbformat": 4
 },
 "nbformat": 4,
 "nbformat_minor": 2
}
