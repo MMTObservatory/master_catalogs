{
 "cells": [
  {
   "cell_type": "code",
   "execution_count": 1,
   "metadata": {},
   "outputs": [],
   "source": [
    "import numpy as np\n",
    "\n",
    "import astropy.units as u\n",
    "from astroquery.gaia import Gaia\n",
    "from astropy.table import Table, Column\n",
    "from astropy.io import ascii\n",
    "from astropy.time import Time\n",
    "from astropy.coordinates import SkyCoord, Distance"
   ]
  },
  {
   "cell_type": "code",
   "execution_count": 2,
   "metadata": {},
   "outputs": [
    {
     "name": "stdout",
     "output_type": "stream",
     "text": [
      "Retrieving table 'gaiaedr3.gaia_source'\n"
     ]
    }
   ],
   "source": [
    "table = Gaia.load_table('gaiaedr3.gaia_source')"
   ]
  },
  {
   "cell_type": "code",
   "execution_count": 3,
   "metadata": {},
   "outputs": [],
   "source": [
    "SPEC_CAT = ascii.read(\"../reference_data/color_table.txt\").to_pandas()\n",
    "\n",
    "def gaia_sptype(color, cat=SPEC_CAT, color_name='G-Rp'):\n",
    "    diff = cat[color_name] - color\n",
    "    absdiff = abs(diff)\n",
    "    sptype = cat.loc[absdiff.idxmin()]['SpT'].replace('V', '')\n",
    "    return sptype"
   ]
  },
  {
   "cell_type": "code",
   "execution_count": 4,
   "metadata": {},
   "outputs": [
    {
     "name": "stdout",
     "output_type": "stream",
     "text": [
      "solution_id\n",
      "designation\n",
      "source_id\n",
      "random_index\n",
      "ref_epoch\n",
      "ra\n",
      "ra_error\n",
      "dec\n",
      "dec_error\n",
      "parallax\n",
      "parallax_error\n",
      "parallax_over_error\n",
      "pm\n",
      "pmra\n",
      "pmra_error\n",
      "pmdec\n",
      "pmdec_error\n",
      "ra_dec_corr\n",
      "ra_parallax_corr\n",
      "ra_pmra_corr\n",
      "ra_pmdec_corr\n",
      "dec_parallax_corr\n",
      "dec_pmra_corr\n",
      "dec_pmdec_corr\n",
      "parallax_pmra_corr\n",
      "parallax_pmdec_corr\n",
      "pmra_pmdec_corr\n",
      "astrometric_n_obs_al\n",
      "astrometric_n_obs_ac\n",
      "astrometric_n_good_obs_al\n",
      "astrometric_n_bad_obs_al\n",
      "astrometric_gof_al\n",
      "astrometric_chi2_al\n",
      "astrometric_excess_noise\n",
      "astrometric_excess_noise_sig\n",
      "astrometric_params_solved\n",
      "astrometric_primary_flag\n",
      "nu_eff_used_in_astrometry\n",
      "pseudocolour\n",
      "pseudocolour_error\n",
      "ra_pseudocolour_corr\n",
      "dec_pseudocolour_corr\n",
      "parallax_pseudocolour_corr\n",
      "pmra_pseudocolour_corr\n",
      "pmdec_pseudocolour_corr\n",
      "astrometric_matched_transits\n",
      "visibility_periods_used\n",
      "astrometric_sigma5d_max\n",
      "matched_transits\n",
      "new_matched_transits\n",
      "matched_transits_removed\n",
      "ipd_gof_harmonic_amplitude\n",
      "ipd_gof_harmonic_phase\n",
      "ipd_frac_multi_peak\n",
      "ipd_frac_odd_win\n",
      "ruwe\n",
      "scan_direction_strength_k1\n",
      "scan_direction_strength_k2\n",
      "scan_direction_strength_k3\n",
      "scan_direction_strength_k4\n",
      "scan_direction_mean_k1\n",
      "scan_direction_mean_k2\n",
      "scan_direction_mean_k3\n",
      "scan_direction_mean_k4\n",
      "duplicated_source\n",
      "phot_g_n_obs\n",
      "phot_g_mean_flux\n",
      "phot_g_mean_flux_error\n",
      "phot_g_mean_flux_over_error\n",
      "phot_g_mean_mag\n",
      "phot_bp_n_obs\n",
      "phot_bp_mean_flux\n",
      "phot_bp_mean_flux_error\n",
      "phot_bp_mean_flux_over_error\n",
      "phot_bp_mean_mag\n",
      "phot_rp_n_obs\n",
      "phot_rp_mean_flux\n",
      "phot_rp_mean_flux_error\n",
      "phot_rp_mean_flux_over_error\n",
      "phot_rp_mean_mag\n",
      "phot_bp_n_contaminated_transits\n",
      "phot_bp_n_blended_transits\n",
      "phot_rp_n_contaminated_transits\n",
      "phot_rp_n_blended_transits\n",
      "phot_proc_mode\n",
      "phot_bp_rp_excess_factor\n",
      "bp_rp\n",
      "bp_g\n",
      "g_rp\n",
      "dr2_radial_velocity\n",
      "dr2_radial_velocity_error\n",
      "dr2_rv_nb_transits\n",
      "dr2_rv_template_teff\n",
      "dr2_rv_template_logg\n",
      "dr2_rv_template_fe_h\n",
      "l\n",
      "b\n",
      "ecl_lon\n",
      "ecl_lat\n"
     ]
    }
   ],
   "source": [
    "for col in table.columns:\n",
    "    print(col.name)"
   ]
  },
  {
   "cell_type": "code",
   "execution_count": 56,
   "metadata": {},
   "outputs": [],
   "source": [
    "def gaia2mmt(low_mag, high_mag, every=10, outfile=None):\n",
    "    \"\"\"\n",
    "    Grab stars from Gaia EDR3 in the range between low_mag and high_mag. The 'every' parameter can be used to \n",
    "    limit the size of the sample, e.g. to select every 10th star. This uses the random_index in the Gaia table to\n",
    "    assure sampling is representative. For MMT catalogs, about 15000-20000 entries is about the limit of what the\n",
    "    scope gui can comfortably handle. The output table is configured to output an MMT-compatible catalog directly. \n",
    "    If outfile is not None, the catalog will be written to outfile. \n",
    "    \"\"\"\n",
    "\n",
    "    job = Gaia.launch_job_async(\n",
    "        \"select all designation,ref_epoch,ra,dec,pmra,pmdec,phot_g_mean_mag as gmag,g_rp,random_index \"\n",
    "        f\"from gaiaedr3.gaia_source where (phot_g_mean_mag > {low_mag} AND phot_g_mean_mag < {high_mag} AND dec > -40 AND \"\n",
    "        f\"pmra IS NOT NULL AND MOD(random_index, {every}) = 0) order by gmag\"\n",
    "    )\n",
    "    r = job.get_results()\n",
    "    r['sptype'] = [gaia_sptype(g_rp) for g_rp in r['g_rp']]\n",
    "    ids = [f\"GEDR3_{s.split()[-1]}\" for s in r['designation']]\n",
    "    t_obs = Time(r['ref_epoch'].data, format='decimalyear')\n",
    "    t_ref = Time('J2000')\n",
    "    c = SkyCoord(\n",
    "        ra=r['ra'],\n",
    "        dec=r['dec'],\n",
    "        pm_ra_cosdec=r['pmra'],\n",
    "        pm_dec=r['pmdec'],\n",
    "        obstime=t_obs,\n",
    "        frame='icrs'\n",
    "    )\n",
    "    c_j2000 = c.apply_space_motion(t_ref)\n",
    "    ra_2000 = c_j2000.ra.to_string(unit=u.hr, sep=\":\", precision=4, pad=True)\n",
    "    dec_2000 = c_j2000.dec.to_string(unit=u.deg, sep=\":\", alwayssign=True, precision=3, pad=True)\n",
    "    pmra_mmt = r['pmra'].data / 15. / 10. / np.cos(c_j2000.dec)  # MMT uses seconds of time per century\n",
    "    pmdec_mmt = r['pmdec'].data / 10.  # MMT uses seconds of arc per century\n",
    "\n",
    "    out_tab = Table()\n",
    "    out_tab['ID'] = Column(ids, format='<25')\n",
    "    out_tab['RA'] = Column(ra_2000)\n",
    "    out_tab['Dec'] = Column(dec_2000)\n",
    "    out_tab['PM_RA'] = Column(pmra_mmt.data, format=\".4f\")\n",
    "    out_tab['PM_Dec'] = Column(pmdec_mmt.data, format=\".4f\")\n",
    "    out_tab['Mag'] = Column(r['gmag'].data, format=\".2f\")\n",
    "    out_tab['Sp_Type'] = Column(r['sptype'])\n",
    "    out_tab.add_column('J2000.0', name='Epoch')\n",
    "    if outfile is not None:\n",
    "        out_tab.write(outfile, format='ascii.fixed_width_no_header', delimiter=None, overwrite=True, bookend=False)\n",
    "    return out_tab"
   ]
  },
  {
   "cell_type": "code",
   "execution_count": 74,
   "metadata": {},
   "outputs": [
    {
     "name": "stdout",
     "output_type": "stream",
     "text": [
      "INFO: Query finished. [astroquery.utils.tap.core]\n"
     ]
    },
    {
     "name": "stderr",
     "output_type": "stream",
     "text": [
      "/home/tim/conda/envs/py39/lib/python3.9/site-packages/erfa/core.py:154: ErfaWarning: ERFA function \"pmsafe\" yielded 18936 of \"distance overridden (Note 6)\", 3 of \"binary logical OR of the above warnings\"\n",
      "  warnings.warn('ERFA function \"{}\" yielded {}'.format(func_name, wmsg),\n"
     ]
    }
   ],
   "source": [
    "t = gaia2mmt(low_mag=14, high_mag=15, every=750, outfile=\"../catalogs/gaia_14_15.cat\")"
   ]
  },
  {
   "cell_type": "code",
   "execution_count": 75,
   "metadata": {},
   "outputs": [
    {
     "data": {
      "text/html": [
       "<div><i>Table length=18939</i>\n",
       "<table id=\"table140322174715216\" class=\"table-striped table-bordered table-condensed\">\n",
       "<thead><tr><th>ID</th><th>RA</th><th>Dec</th><th>PM_RA</th><th>PM_Dec</th><th>Mag</th><th>Sp_Type</th><th>Epoch</th></tr></thead>\n",
       "<thead><tr><th>str25</th><th>str13</th><th>str13</th><th>float64</th><th>float64</th><th>float32</th><th>str4</th><th>str7</th></tr></thead>\n",
       "<tr><td>GEDR3_2816265379461572736</td><td>22:55:37.1313</td><td>+14:36:22.038</td><td>-0.0325</td><td>-0.6195</td><td>14.00</td><td>K1.5</td><td>J2000.0</td></tr>\n",
       "<tr><td>GEDR3_4052360128432806528</td><td>18:19:41.0484</td><td>-27:15:33.609</td><td>-0.0359</td><td>-1.2902</td><td>14.00</td><td>K6.5</td><td>J2000.0</td></tr>\n",
       "<tr><td>GEDR3_3955227759319992448</td><td>12:50:30.2464</td><td>+22:40:21.809</td><td>0.0060</td><td>-0.5510</td><td>14.00</td><td>G8</td><td>J2000.0</td></tr>\n",
       "<tr><td>GEDR3_2062180379135558656</td><td>20:12:58.6533</td><td>+39:29:51.607</td><td>0.0265</td><td>-0.6461</td><td>14.00</td><td>K0</td><td>J2000.0</td></tr>\n",
       "<tr><td>GEDR3_1753823236463891968</td><td>20:26:42.3125</td><td>+10:49:29.796</td><td>-0.0229</td><td>-0.4863</td><td>14.00</td><td>K4</td><td>J2000.0</td></tr>\n",
       "<tr><td>GEDR3_2033125028482266752</td><td>19:38:02.5425</td><td>+31:11:09.791</td><td>-0.0198</td><td>-0.6800</td><td>14.00</td><td>K6</td><td>J2000.0</td></tr>\n",
       "<tr><td>GEDR3_5708422723670675584</td><td>08:37:15.0455</td><td>-18:42:50.655</td><td>-0.0209</td><td>0.4743</td><td>14.00</td><td>F9</td><td>J2000.0</td></tr>\n",
       "<tr><td>GEDR3_4167741950856812672</td><td>17:28:37.6488</td><td>-08:22:54.554</td><td>-0.0106</td><td>-0.5045</td><td>14.00</td><td>M2</td><td>J2000.0</td></tr>\n",
       "<tr><td>GEDR3_3341861005881158400</td><td>06:04:44.6401</td><td>+10:49:16.631</td><td>-0.0045</td><td>-0.8632</td><td>14.00</td><td>K1.5</td><td>J2000.0</td></tr>\n",
       "<tr><td>GEDR3_4241158403833051392</td><td>19:57:57.9342</td><td>+02:54:18.411</td><td>0.0169</td><td>-3.0726</td><td>14.00</td><td>K4</td><td>J2000.0</td></tr>\n",
       "<tr><td>...</td><td>...</td><td>...</td><td>...</td><td>...</td><td>...</td><td>...</td><td>...</td></tr>\n",
       "<tr><td>GEDR3_2055842106917074688</td><td>20:12:52.2446</td><td>+34:52:09.371</td><td>-0.0042</td><td>-0.3762</td><td>15.00</td><td>K4.5</td><td>J2000.0</td></tr>\n",
       "<tr><td>GEDR3_5403708331756035840</td><td>11:06:56.7471</td><td>-32:08:36.713</td><td>-0.0592</td><td>0.1216</td><td>15.00</td><td>G9</td><td>J2000.0</td></tr>\n",
       "<tr><td>GEDR3_4316810335778328320</td><td>19:40:59.3681</td><td>+12:43:56.262</td><td>-0.0317</td><td>-0.1457</td><td>15.00</td><td>K3</td><td>J2000.0</td></tr>\n",
       "<tr><td>GEDR3_4125503180896212608</td><td>16:56:52.6229</td><td>-23:09:31.636</td><td>0.0186</td><td>0.0307</td><td>15.00</td><td>M0</td><td>J2000.0</td></tr>\n",
       "<tr><td>GEDR3_5692779525075417472</td><td>08:15:45.7901</td><td>-28:43:05.836</td><td>-0.0695</td><td>0.9903</td><td>15.00</td><td>G8</td><td>J2000.0</td></tr>\n",
       "<tr><td>GEDR3_4050095684229447680</td><td>18:06:07.2352</td><td>-30:01:40.354</td><td>-0.0046</td><td>-0.3515</td><td>15.00</td><td>M0.5</td><td>J2000.0</td></tr>\n",
       "<tr><td>GEDR3_359126031212890624</td><td>02:08:18.2535</td><td>+52:19:41.343</td><td>0.3978</td><td>-6.3919</td><td>15.00</td><td>M4</td><td>J2000.0</td></tr>\n",
       "<tr><td>GEDR3_1854124535446610816</td><td>21:27:00.6896</td><td>+32:46:26.291</td><td>-0.0096</td><td>-0.1335</td><td>15.00</td><td>K1.5</td><td>J2000.0</td></tr>\n",
       "<tr><td>GEDR3_1844702236187313280</td><td>21:01:15.9927</td><td>+26:38:04.921</td><td>-0.0255</td><td>-0.2216</td><td>15.00</td><td>K6.5</td><td>J2000.0</td></tr>\n",
       "<tr><td>GEDR3_4040879165470958848</td><td>17:42:29.4589</td><td>-36:44:50.101</td><td>-0.0093</td><td>-1.3183</td><td>15.00</td><td>K5</td><td>J2000.0</td></tr>\n",
       "</table></div>"
      ],
      "text/plain": [
       "<Table length=18939>\n",
       "            ID                  RA           Dec      ... Sp_Type  Epoch \n",
       "          str25               str13         str13     ...   str4    str7 \n",
       "------------------------- ------------- ------------- ... ------- -------\n",
       "GEDR3_2816265379461572736 22:55:37.1313 +14:36:22.038 ...    K1.5 J2000.0\n",
       "GEDR3_4052360128432806528 18:19:41.0484 -27:15:33.609 ...    K6.5 J2000.0\n",
       "GEDR3_3955227759319992448 12:50:30.2464 +22:40:21.809 ...      G8 J2000.0\n",
       "GEDR3_2062180379135558656 20:12:58.6533 +39:29:51.607 ...      K0 J2000.0\n",
       "GEDR3_1753823236463891968 20:26:42.3125 +10:49:29.796 ...      K4 J2000.0\n",
       "GEDR3_2033125028482266752 19:38:02.5425 +31:11:09.791 ...      K6 J2000.0\n",
       "GEDR3_5708422723670675584 08:37:15.0455 -18:42:50.655 ...      F9 J2000.0\n",
       "GEDR3_4167741950856812672 17:28:37.6488 -08:22:54.554 ...      M2 J2000.0\n",
       "GEDR3_3341861005881158400 06:04:44.6401 +10:49:16.631 ...    K1.5 J2000.0\n",
       "GEDR3_4241158403833051392 19:57:57.9342 +02:54:18.411 ...      K4 J2000.0\n",
       "...                                 ...           ... ...     ...     ...\n",
       "GEDR3_2055842106917074688 20:12:52.2446 +34:52:09.371 ...    K4.5 J2000.0\n",
       "GEDR3_5403708331756035840 11:06:56.7471 -32:08:36.713 ...      G9 J2000.0\n",
       "GEDR3_4316810335778328320 19:40:59.3681 +12:43:56.262 ...      K3 J2000.0\n",
       "GEDR3_4125503180896212608 16:56:52.6229 -23:09:31.636 ...      M0 J2000.0\n",
       "GEDR3_5692779525075417472 08:15:45.7901 -28:43:05.836 ...      G8 J2000.0\n",
       "GEDR3_4050095684229447680 18:06:07.2352 -30:01:40.354 ...    M0.5 J2000.0\n",
       "GEDR3_359126031212890624  02:08:18.2535 +52:19:41.343 ...      M4 J2000.0\n",
       "GEDR3_1854124535446610816 21:27:00.6896 +32:46:26.291 ...    K1.5 J2000.0\n",
       "GEDR3_1844702236187313280 21:01:15.9927 +26:38:04.921 ...    K6.5 J2000.0\n",
       "GEDR3_4040879165470958848 17:42:29.4589 -36:44:50.101 ...      K5 J2000.0"
      ]
     },
     "execution_count": 75,
     "metadata": {},
     "output_type": "execute_result"
    }
   ],
   "source": [
    "t"
   ]
  },
  {
   "cell_type": "code",
   "execution_count": 52,
   "metadata": {},
   "outputs": [
    {
     "data": {
      "text/html": [
       "<div><i>Table length=17617</i>\n",
       "<table id=\"table140322213278960\" class=\"table-striped table-bordered table-condensed\">\n",
       "<thead><tr><th>designation</th><th>ref_epoch</th><th>ra</th><th>dec</th><th>pmra</th><th>pmdec</th><th>gmag</th><th>g_rp</th><th>random_index</th></tr></thead>\n",
       "<thead><tr><th></th><th>yr</th><th>deg</th><th>deg</th><th>mas / yr</th><th>mas / yr</th><th>mag</th><th>mag</th><th></th></tr></thead>\n",
       "<thead><tr><th>object</th><th>float64</th><th>float64</th><th>float64</th><th>float64</th><th>float64</th><th>float32</th><th>float32</th><th>int64</th></tr></thead>\n",
       "<tr><td>Gaia EDR3 5616982973026239744</td><td>2016.0</td><td>111.24600126675567</td><td>-24.426311998237164</td><td>-8.501098184244631</td><td>5.64171298412784</td><td>8.000086</td><td>-0.12911797</td><td>1167574125</td></tr>\n",
       "<tr><td>Gaia EDR3 2052508903053556224</td><td>2016.0</td><td>293.9017224692132</td><td>40.02732792622806</td><td>-13.4830390010105</td><td>-23.118987591454776</td><td>8.000522</td><td>0.48545504</td><td>631342970</td></tr>\n",
       "<tr><td>Gaia EDR3 6543567500784109184</td><td>2016.0</td><td>345.49293591514936</td><td>-39.75612587699399</td><td>20.35466200288655</td><td>-34.190271789146976</td><td>8.000678</td><td>0.37519026</td><td>935189690</td></tr>\n",
       "<tr><td>Gaia EDR3 5144850137428522240</td><td>2016.0</td><td>34.17715005312012</td><td>-16.281429380194407</td><td>22.598018213010846</td><td>-3.422430289632752</td><td>8.001075</td><td>0.910161</td><td>1810319205</td></tr>\n",
       "<tr><td>Gaia EDR3 1707200365734544256</td><td>2016.0</td><td>233.1264821274129</td><td>76.77390165748176</td><td>30.280228251154064</td><td>56.74175883453533</td><td>8.001079</td><td>0.527565</td><td>984254395</td></tr>\n",
       "<tr><td>Gaia EDR3 3162328486688220416</td><td>2016.0</td><td>114.21619604117961</td><td>12.078753444303207</td><td>-11.901180972336695</td><td>-4.530833432719433</td><td>8.001189</td><td>0.2581854</td><td>197204900</td></tr>\n",
       "<tr><td>Gaia EDR3 6907170258014433664</td><td>2016.0</td><td>310.36227897409674</td><td>-7.196142480455991</td><td>4.8912190325795395</td><td>-19.42137966472189</td><td>8.001359</td><td>0.65695477</td><td>439956450</td></tr>\n",
       "<tr><td>Gaia EDR3 1828606932155119360</td><td>2016.0</td><td>304.3331750950117</td><td>20.226907916649587</td><td>-4.715339460188449</td><td>-6.54964065285932</td><td>8.001439</td><td>0.7537589</td><td>127151070</td></tr>\n",
       "<tr><td>Gaia EDR3 2246384070381119872</td><td>2016.0</td><td>307.5276782163918</td><td>66.22864033794092</td><td>17.821375715810184</td><td>50.28749895387214</td><td>8.001505</td><td>0.6334615</td><td>299838590</td></tr>\n",
       "<tr><td>...</td><td>...</td><td>...</td><td>...</td><td>...</td><td>...</td><td>...</td><td>...</td><td>...</td></tr>\n",
       "<tr><td>Gaia EDR3 1764011036326401792</td><td>2016.0</td><td>315.7479403889716</td><td>16.56858807217853</td><td>-11.770234000196812</td><td>-12.816572970462111</td><td>8.99963</td><td>0.7147646</td><td>529741185</td></tr>\n",
       "<tr><td>Gaia EDR3 2221128425730861824</td><td>2016.0</td><td>322.3316163898149</td><td>65.94993052637139</td><td>0.6842087442802728</td><td>2.4621014237046994</td><td>8.99967</td><td>0.20789051</td><td>595579265</td></tr>\n",
       "<tr><td>Gaia EDR3 887879004051480448</td><td>2016.0</td><td>105.40282303658655</td><td>29.390448648747633</td><td>-3.0032496285258814</td><td>-8.457275185756643</td><td>8.999772</td><td>0.09926796</td><td>222196585</td></tr>\n",
       "<tr><td>Gaia EDR3 4106149783434368000</td><td>2016.0</td><td>282.61797424098734</td><td>-11.006315989393928</td><td>0.37935087711194326</td><td>-1.0957829424731478</td><td>8.999787</td><td>0.29016495</td><td>387281025</td></tr>\n",
       "<tr><td>Gaia EDR3 2891385010306100736</td><td>2016.0</td><td>95.29771215473271</td><td>-35.127077490577356</td><td>4.729304488462912</td><td>-24.811339126470138</td><td>8.9998</td><td>0.3401699</td><td>785710760</td></tr>\n",
       "<tr><td>Gaia EDR3 6028073465759840000</td><td>2016.0</td><td>255.8884147473162</td><td>-32.61418487301198</td><td>-9.260277315190548</td><td>-25.17656561335064</td><td>8.99982</td><td>0.7563019</td><td>1118860365</td></tr>\n",
       "<tr><td>Gaia EDR3 3167846729390109056</td><td>2016.0</td><td>109.56078225889513</td><td>15.443085988213639</td><td>-8.277376118703602</td><td>-0.47597422658956184</td><td>8.999837</td><td>0.4029274</td><td>1100701790</td></tr>\n",
       "<tr><td>Gaia EDR3 6021147641943522048</td><td>2016.0</td><td>249.7847890641153</td><td>-33.89956395430259</td><td>-1.2975819808859956</td><td>-6.120438955819614</td><td>8.999861</td><td>0.69999504</td><td>313061755</td></tr>\n",
       "<tr><td>Gaia EDR3 1344317208802712448</td><td>2016.0</td><td>264.3325824186987</td><td>41.51907667446616</td><td>-0.7047977994899234</td><td>13.910480016686101</td><td>8.999908</td><td>0.40179062</td><td>1217762960</td></tr>\n",
       "<tr><td>Gaia EDR3 2108523316762860032</td><td>2016.0</td><td>277.8614349749828</td><td>39.257148699634094</td><td>-5.22964345958906</td><td>-3.878533224278091</td><td>8.99999</td><td>0.6967907</td><td>1711845450</td></tr>\n",
       "</table></div>"
      ],
      "text/plain": [
       "<Table length=17617>\n",
       "         designation          ref_epoch ...     g_rp    random_index\n",
       "                                  yr    ...     mag                 \n",
       "            object             float64  ...   float32      int64    \n",
       "----------------------------- --------- ... ----------- ------------\n",
       "Gaia EDR3 5616982973026239744    2016.0 ... -0.12911797   1167574125\n",
       "Gaia EDR3 2052508903053556224    2016.0 ...  0.48545504    631342970\n",
       "Gaia EDR3 6543567500784109184    2016.0 ...  0.37519026    935189690\n",
       "Gaia EDR3 5144850137428522240    2016.0 ...    0.910161   1810319205\n",
       "Gaia EDR3 1707200365734544256    2016.0 ...    0.527565    984254395\n",
       "Gaia EDR3 3162328486688220416    2016.0 ...   0.2581854    197204900\n",
       "Gaia EDR3 6907170258014433664    2016.0 ...  0.65695477    439956450\n",
       "Gaia EDR3 1828606932155119360    2016.0 ...   0.7537589    127151070\n",
       "Gaia EDR3 2246384070381119872    2016.0 ...   0.6334615    299838590\n",
       "                          ...       ... ...         ...          ...\n",
       "Gaia EDR3 1764011036326401792    2016.0 ...   0.7147646    529741185\n",
       "Gaia EDR3 2221128425730861824    2016.0 ...  0.20789051    595579265\n",
       " Gaia EDR3 887879004051480448    2016.0 ...  0.09926796    222196585\n",
       "Gaia EDR3 4106149783434368000    2016.0 ...  0.29016495    387281025\n",
       "Gaia EDR3 2891385010306100736    2016.0 ...   0.3401699    785710760\n",
       "Gaia EDR3 6028073465759840000    2016.0 ...   0.7563019   1118860365\n",
       "Gaia EDR3 3167846729390109056    2016.0 ...   0.4029274   1100701790\n",
       "Gaia EDR3 6021147641943522048    2016.0 ...  0.69999504    313061755\n",
       "Gaia EDR3 1344317208802712448    2016.0 ...  0.40179062   1217762960\n",
       "Gaia EDR3 2108523316762860032    2016.0 ...   0.6967907   1711845450"
      ]
     },
     "execution_count": 52,
     "metadata": {},
     "output_type": "execute_result"
    }
   ],
   "source": [
    "r"
   ]
  },
  {
   "cell_type": "code",
   "execution_count": null,
   "metadata": {},
   "outputs": [],
   "source": []
  }
 ],
 "metadata": {
  "interpreter": {
   "hash": "ecc22ddafbb7680a410089353d25f05dc1cd64666e6afd042de696b9ecdc2135"
  },
  "kernelspec": {
   "display_name": "Python 3.9.7 64-bit ('py39': conda)",
   "language": "python",
   "name": "python3"
  },
  "language_info": {
   "codemirror_mode": {
    "name": "ipython",
    "version": 3
   },
   "file_extension": ".py",
   "mimetype": "text/x-python",
   "name": "python",
   "nbconvert_exporter": "python",
   "pygments_lexer": "ipython3",
   "version": "3.9.7"
  },
  "orig_nbformat": 4
 },
 "nbformat": 4,
 "nbformat_minor": 2
}
